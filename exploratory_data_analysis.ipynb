{
 "cells": [
  {
   "attachments": {},
   "cell_type": "markdown",
   "metadata": {},
   "source": [
    "## Exploratory Data Analysis Project\n",
    "\n",
    "### As a Data Analyst, I want to set up the proper imports to have access to  Pandas, MatPlotLib and MySQL Connector"
   ]
  },
  {
   "cell_type": "code",
   "execution_count": 97,
   "metadata": {},
   "outputs": [],
   "source": [
    "import pandas as pd\n",
    "import matplotlib.pyplot as plt\n",
    "import mysql.connector as connection\n",
    "from sklearn.linear_model import LinearRegression"
   ]
  },
  {
   "attachments": {},
   "cell_type": "markdown",
   "metadata": {},
   "source": [
    "### As a Data Analyst, I want to use MySQL Connector to establish my remote data source andquery my database to JOIN the informatoin from the Sales and Cities tables together and save the result as my DataFrame"
   ]
  },
  {
   "cell_type": "code",
   "execution_count": 4,
   "metadata": {},
   "outputs": [],
   "source": [
    "mydb = connection.connect(host=\"devcodecamp-mysql.c5p7yvjq1h8y.us-east-2.rds.amazonaws.com\",database=\"salesdb\",user=\"root\",password=\"D3v$tudent\",use_pure=True)\n"
   ]
  },
  {
   "attachments": {},
   "cell_type": "markdown",
   "metadata": {},
   "source": [
    "### As a Data Analyst, I want to query my database to JOIN the information from the 'sales' and 'cities' tables together and save the result as a single DataFrame variable"
   ]
  },
  {
   "cell_type": "code",
   "execution_count": 5,
   "metadata": {},
   "outputs": [
    {
     "name": "stderr",
     "output_type": "stream",
     "text": [
      "C:\\Users\\jenve\\AppData\\Local\\Temp\\ipykernel_40104\\1077266248.py:2: UserWarning: pandas only supports SQLAlchemy connectable (engine/connection) or database string URI or sqlite3 DBAPI2 connection. Other DBAPI2 objects are not tested. Please consider using SQLAlchemy.\n",
      "  df = pd.read_sql_query(select_query, mydb)\n"
     ]
    },
    {
     "data": {
      "text/html": [
       "<div>\n",
       "<style scoped>\n",
       "    .dataframe tbody tr th:only-of-type {\n",
       "        vertical-align: middle;\n",
       "    }\n",
       "\n",
       "    .dataframe tbody tr th {\n",
       "        vertical-align: top;\n",
       "    }\n",
       "\n",
       "    .dataframe thead th {\n",
       "        text-align: right;\n",
       "    }\n",
       "</style>\n",
       "<table border=\"1\" class=\"dataframe\">\n",
       "  <thead>\n",
       "    <tr style=\"text-align: right;\">\n",
       "      <th></th>\n",
       "      <th>Invoice_ID</th>\n",
       "      <th>Customer_Type</th>\n",
       "      <th>Gender</th>\n",
       "      <th>Product_Line</th>\n",
       "      <th>Unit_Price</th>\n",
       "      <th>Quantity</th>\n",
       "      <th>Sales_Tax</th>\n",
       "      <th>Total</th>\n",
       "      <th>Date</th>\n",
       "      <th>Time</th>\n",
       "      <th>Payment</th>\n",
       "      <th>COGS</th>\n",
       "      <th>Gross_Income</th>\n",
       "      <th>Rating</th>\n",
       "      <th>City_ID</th>\n",
       "      <th>City</th>\n",
       "    </tr>\n",
       "  </thead>\n",
       "  <tbody>\n",
       "    <tr>\n",
       "      <th>0</th>\n",
       "      <td>101-17-6199</td>\n",
       "      <td>Normal</td>\n",
       "      <td>Male</td>\n",
       "      <td>Food and beverages</td>\n",
       "      <td>45.79</td>\n",
       "      <td>7</td>\n",
       "      <td>None</td>\n",
       "      <td>336.5565</td>\n",
       "      <td>3/13/2019</td>\n",
       "      <td>19:44</td>\n",
       "      <td>Credit card</td>\n",
       "      <td>320.53</td>\n",
       "      <td>16.0265</td>\n",
       "      <td>7.0</td>\n",
       "      <td>1</td>\n",
       "      <td>Seattle</td>\n",
       "    </tr>\n",
       "    <tr>\n",
       "      <th>1</th>\n",
       "      <td>101-81-4070</td>\n",
       "      <td>Member</td>\n",
       "      <td>Female</td>\n",
       "      <td>Health and beauty</td>\n",
       "      <td>62.82</td>\n",
       "      <td>2</td>\n",
       "      <td>None</td>\n",
       "      <td>131.9220</td>\n",
       "      <td>1/17/2019</td>\n",
       "      <td>12:36</td>\n",
       "      <td>Ewallet</td>\n",
       "      <td>125.64</td>\n",
       "      <td>6.2820</td>\n",
       "      <td>4.9</td>\n",
       "      <td>3</td>\n",
       "      <td>Milwaukee</td>\n",
       "    </tr>\n",
       "    <tr>\n",
       "      <th>2</th>\n",
       "      <td>102-06-2002</td>\n",
       "      <td>Member</td>\n",
       "      <td>Male</td>\n",
       "      <td>Sports and travel</td>\n",
       "      <td>25.25</td>\n",
       "      <td>5</td>\n",
       "      <td>None</td>\n",
       "      <td>132.5625</td>\n",
       "      <td>3/20/2019</td>\n",
       "      <td>17:52</td>\n",
       "      <td>Cash</td>\n",
       "      <td>126.25</td>\n",
       "      <td>6.3125</td>\n",
       "      <td>6.1</td>\n",
       "      <td>3</td>\n",
       "      <td>Milwaukee</td>\n",
       "    </tr>\n",
       "    <tr>\n",
       "      <th>3</th>\n",
       "      <td>102-77-2261</td>\n",
       "      <td>Member</td>\n",
       "      <td>Male</td>\n",
       "      <td>Health and beauty</td>\n",
       "      <td>65.31</td>\n",
       "      <td>7</td>\n",
       "      <td>None</td>\n",
       "      <td>480.0285</td>\n",
       "      <td>3/5/2019</td>\n",
       "      <td>18:02</td>\n",
       "      <td>Credit card</td>\n",
       "      <td>457.17</td>\n",
       "      <td>22.8585</td>\n",
       "      <td>4.2</td>\n",
       "      <td>3</td>\n",
       "      <td>Milwaukee</td>\n",
       "    </tr>\n",
       "    <tr>\n",
       "      <th>4</th>\n",
       "      <td>105-10-6182</td>\n",
       "      <td>Member</td>\n",
       "      <td>Male</td>\n",
       "      <td>Fashion accessories</td>\n",
       "      <td>21.48</td>\n",
       "      <td>2</td>\n",
       "      <td>None</td>\n",
       "      <td>45.1080</td>\n",
       "      <td>2/27/2019</td>\n",
       "      <td>12:22</td>\n",
       "      <td>Ewallet</td>\n",
       "      <td>42.96</td>\n",
       "      <td>2.1480</td>\n",
       "      <td>6.6</td>\n",
       "      <td>1</td>\n",
       "      <td>Seattle</td>\n",
       "    </tr>\n",
       "  </tbody>\n",
       "</table>\n",
       "</div>"
      ],
      "text/plain": [
       "    Invoice_ID Customer_Type  Gender         Product_Line  Unit_Price   \n",
       "0  101-17-6199        Normal    Male   Food and beverages       45.79  \\\n",
       "1  101-81-4070        Member  Female    Health and beauty       62.82   \n",
       "2  102-06-2002        Member    Male    Sports and travel       25.25   \n",
       "3  102-77-2261        Member    Male    Health and beauty       65.31   \n",
       "4  105-10-6182        Member    Male  Fashion accessories       21.48   \n",
       "\n",
       "   Quantity Sales_Tax     Total       Date   Time      Payment    COGS   \n",
       "0         7      None  336.5565  3/13/2019  19:44  Credit card  320.53  \\\n",
       "1         2      None  131.9220  1/17/2019  12:36      Ewallet  125.64   \n",
       "2         5      None  132.5625  3/20/2019  17:52         Cash  126.25   \n",
       "3         7      None  480.0285   3/5/2019  18:02  Credit card  457.17   \n",
       "4         2      None   45.1080  2/27/2019  12:22      Ewallet   42.96   \n",
       "\n",
       "   Gross_Income  Rating  City_ID       City  \n",
       "0       16.0265     7.0        1    Seattle  \n",
       "1        6.2820     4.9        3  Milwaukee  \n",
       "2        6.3125     6.1        3  Milwaukee  \n",
       "3       22.8585     4.2        3  Milwaukee  \n",
       "4        2.1480     6.6        1    Seattle  "
      ]
     },
     "execution_count": 5,
     "metadata": {},
     "output_type": "execute_result"
    }
   ],
   "source": [
    "select_query = \"SELECT * FROM sales JOIN cities ON sales.City_ID = cities.City_ID\"\n",
    "df = pd.read_sql_query(select_query, mydb)\n",
    "df.head()"
   ]
  },
  {
   "attachments": {},
   "cell_type": "markdown",
   "metadata": {},
   "source": [
    "### As a Data Analyst, I want to perform any necessary 'cleaning' of the data to remove NULL values, convert to Pandas 'DateTime' format and remove any duplicate rows"
   ]
  },
  {
   "cell_type": "code",
   "execution_count": 6,
   "metadata": {},
   "outputs": [
    {
     "name": "stdout",
     "output_type": "stream",
     "text": [
      "<class 'pandas.core.frame.DataFrame'>\n",
      "RangeIndex: 1000 entries, 0 to 999\n",
      "Data columns (total 14 columns):\n",
      " #   Column         Non-Null Count  Dtype         \n",
      "---  ------         --------------  -----         \n",
      " 0   Invoice_ID     1000 non-null   object        \n",
      " 1   Customer_Type  1000 non-null   object        \n",
      " 2   Gender         1000 non-null   object        \n",
      " 3   Product_Line   1000 non-null   object        \n",
      " 4   Unit_Price     1000 non-null   float64       \n",
      " 5   Quantity       1000 non-null   int64         \n",
      " 6   Total          1000 non-null   float64       \n",
      " 7   Date           1000 non-null   datetime64[ns]\n",
      " 8   Payment        1000 non-null   object        \n",
      " 9   COGS           1000 non-null   float64       \n",
      " 10  Gross_Income   1000 non-null   float64       \n",
      " 11  Rating         1000 non-null   float64       \n",
      " 12  City_ID        1000 non-null   int64         \n",
      " 13  City           1000 non-null   object        \n",
      "dtypes: datetime64[ns](1), float64(5), int64(2), object(6)\n",
      "memory usage: 109.5+ KB\n"
     ]
    },
    {
     "data": {
      "text/html": [
       "<div>\n",
       "<style scoped>\n",
       "    .dataframe tbody tr th:only-of-type {\n",
       "        vertical-align: middle;\n",
       "    }\n",
       "\n",
       "    .dataframe tbody tr th {\n",
       "        vertical-align: top;\n",
       "    }\n",
       "\n",
       "    .dataframe thead th {\n",
       "        text-align: right;\n",
       "    }\n",
       "</style>\n",
       "<table border=\"1\" class=\"dataframe\">\n",
       "  <thead>\n",
       "    <tr style=\"text-align: right;\">\n",
       "      <th></th>\n",
       "      <th>Invoice_ID</th>\n",
       "      <th>Customer_Type</th>\n",
       "      <th>Gender</th>\n",
       "      <th>Product_Line</th>\n",
       "      <th>Unit_Price</th>\n",
       "      <th>Quantity</th>\n",
       "      <th>Total</th>\n",
       "      <th>Date</th>\n",
       "      <th>Payment</th>\n",
       "      <th>COGS</th>\n",
       "      <th>Gross_Income</th>\n",
       "      <th>Rating</th>\n",
       "      <th>City_ID</th>\n",
       "      <th>City</th>\n",
       "    </tr>\n",
       "  </thead>\n",
       "  <tbody>\n",
       "    <tr>\n",
       "      <th>0</th>\n",
       "      <td>101-17-6199</td>\n",
       "      <td>Normal</td>\n",
       "      <td>Male</td>\n",
       "      <td>Food and beverages</td>\n",
       "      <td>45.79</td>\n",
       "      <td>7</td>\n",
       "      <td>336.5565</td>\n",
       "      <td>2019-03-13</td>\n",
       "      <td>Credit card</td>\n",
       "      <td>320.53</td>\n",
       "      <td>16.0265</td>\n",
       "      <td>7.0</td>\n",
       "      <td>1</td>\n",
       "      <td>Seattle</td>\n",
       "    </tr>\n",
       "    <tr>\n",
       "      <th>1</th>\n",
       "      <td>101-81-4070</td>\n",
       "      <td>Member</td>\n",
       "      <td>Female</td>\n",
       "      <td>Health and beauty</td>\n",
       "      <td>62.82</td>\n",
       "      <td>2</td>\n",
       "      <td>131.9220</td>\n",
       "      <td>2019-01-17</td>\n",
       "      <td>Ewallet</td>\n",
       "      <td>125.64</td>\n",
       "      <td>6.2820</td>\n",
       "      <td>4.9</td>\n",
       "      <td>3</td>\n",
       "      <td>Milwaukee</td>\n",
       "    </tr>\n",
       "    <tr>\n",
       "      <th>2</th>\n",
       "      <td>102-06-2002</td>\n",
       "      <td>Member</td>\n",
       "      <td>Male</td>\n",
       "      <td>Sports and travel</td>\n",
       "      <td>25.25</td>\n",
       "      <td>5</td>\n",
       "      <td>132.5625</td>\n",
       "      <td>2019-03-20</td>\n",
       "      <td>Cash</td>\n",
       "      <td>126.25</td>\n",
       "      <td>6.3125</td>\n",
       "      <td>6.1</td>\n",
       "      <td>3</td>\n",
       "      <td>Milwaukee</td>\n",
       "    </tr>\n",
       "    <tr>\n",
       "      <th>3</th>\n",
       "      <td>102-77-2261</td>\n",
       "      <td>Member</td>\n",
       "      <td>Male</td>\n",
       "      <td>Health and beauty</td>\n",
       "      <td>65.31</td>\n",
       "      <td>7</td>\n",
       "      <td>480.0285</td>\n",
       "      <td>2019-03-05</td>\n",
       "      <td>Credit card</td>\n",
       "      <td>457.17</td>\n",
       "      <td>22.8585</td>\n",
       "      <td>4.2</td>\n",
       "      <td>3</td>\n",
       "      <td>Milwaukee</td>\n",
       "    </tr>\n",
       "    <tr>\n",
       "      <th>4</th>\n",
       "      <td>105-10-6182</td>\n",
       "      <td>Member</td>\n",
       "      <td>Male</td>\n",
       "      <td>Fashion accessories</td>\n",
       "      <td>21.48</td>\n",
       "      <td>2</td>\n",
       "      <td>45.1080</td>\n",
       "      <td>2019-02-27</td>\n",
       "      <td>Ewallet</td>\n",
       "      <td>42.96</td>\n",
       "      <td>2.1480</td>\n",
       "      <td>6.6</td>\n",
       "      <td>1</td>\n",
       "      <td>Seattle</td>\n",
       "    </tr>\n",
       "  </tbody>\n",
       "</table>\n",
       "</div>"
      ],
      "text/plain": [
       "    Invoice_ID Customer_Type  Gender         Product_Line  Unit_Price   \n",
       "0  101-17-6199        Normal    Male   Food and beverages       45.79  \\\n",
       "1  101-81-4070        Member  Female    Health and beauty       62.82   \n",
       "2  102-06-2002        Member    Male    Sports and travel       25.25   \n",
       "3  102-77-2261        Member    Male    Health and beauty       65.31   \n",
       "4  105-10-6182        Member    Male  Fashion accessories       21.48   \n",
       "\n",
       "   Quantity     Total       Date      Payment    COGS  Gross_Income  Rating   \n",
       "0         7  336.5565 2019-03-13  Credit card  320.53       16.0265     7.0  \\\n",
       "1         2  131.9220 2019-01-17      Ewallet  125.64        6.2820     4.9   \n",
       "2         5  132.5625 2019-03-20         Cash  126.25        6.3125     6.1   \n",
       "3         7  480.0285 2019-03-05  Credit card  457.17       22.8585     4.2   \n",
       "4         2   45.1080 2019-02-27      Ewallet   42.96        2.1480     6.6   \n",
       "\n",
       "   City_ID       City  \n",
       "0        1    Seattle  \n",
       "1        3  Milwaukee  \n",
       "2        3  Milwaukee  \n",
       "3        3  Milwaukee  \n",
       "4        1    Seattle  "
      ]
     },
     "execution_count": 6,
     "metadata": {},
     "output_type": "execute_result"
    }
   ],
   "source": [
    "filtered_df = df.drop([\"Sales_Tax\", \"Time\"], axis = 1)\n",
    "filtered_df[\"Date\"] = pd.to_datetime(filtered_df[\"Date\"])\n",
    "filtered_df.info()\n",
    "filtered_df.head()"
   ]
  },
  {
   "attachments": {},
   "cell_type": "markdown",
   "metadata": {},
   "source": [
    "### As a Data Analyst, I want to check for duplicate rows"
   ]
  },
  {
   "cell_type": "code",
   "execution_count": 7,
   "metadata": {},
   "outputs": [
    {
     "data": {
      "text/html": [
       "<div>\n",
       "<style scoped>\n",
       "    .dataframe tbody tr th:only-of-type {\n",
       "        vertical-align: middle;\n",
       "    }\n",
       "\n",
       "    .dataframe tbody tr th {\n",
       "        vertical-align: top;\n",
       "    }\n",
       "\n",
       "    .dataframe thead th {\n",
       "        text-align: right;\n",
       "    }\n",
       "</style>\n",
       "<table border=\"1\" class=\"dataframe\">\n",
       "  <thead>\n",
       "    <tr style=\"text-align: right;\">\n",
       "      <th></th>\n",
       "      <th>Invoice_ID</th>\n",
       "      <th>Customer_Type</th>\n",
       "      <th>Gender</th>\n",
       "      <th>Product_Line</th>\n",
       "      <th>Unit_Price</th>\n",
       "      <th>Quantity</th>\n",
       "      <th>Total</th>\n",
       "      <th>Date</th>\n",
       "      <th>Payment</th>\n",
       "      <th>COGS</th>\n",
       "      <th>Gross_Income</th>\n",
       "      <th>Rating</th>\n",
       "      <th>City_ID</th>\n",
       "      <th>City</th>\n",
       "    </tr>\n",
       "  </thead>\n",
       "  <tbody>\n",
       "  </tbody>\n",
       "</table>\n",
       "</div>"
      ],
      "text/plain": [
       "Empty DataFrame\n",
       "Columns: [Invoice_ID, Customer_Type, Gender, Product_Line, Unit_Price, Quantity, Total, Date, Payment, COGS, Gross_Income, Rating, City_ID, City]\n",
       "Index: []"
      ]
     },
     "execution_count": 7,
     "metadata": {},
     "output_type": "execute_result"
    }
   ],
   "source": [
    "filtered_df[filtered_df.duplicated()]"
   ]
  },
  {
   "attachments": {},
   "cell_type": "markdown",
   "metadata": {},
   "source": [
    "### As a Data Analyst, I want to explore the data to answer the following:\n",
    "* How many sales were made for members vs. normal customers?"
   ]
  },
  {
   "cell_type": "code",
   "execution_count": 8,
   "metadata": {},
   "outputs": [
    {
     "name": "stderr",
     "output_type": "stream",
     "text": [
      "C:\\Users\\jenve\\AppData\\Local\\Temp\\ipykernel_40104\\3975325583.py:2: UserWarning: pandas only supports SQLAlchemy connectable (engine/connection) or database string URI or sqlite3 DBAPI2 connection. Other DBAPI2 objects are not tested. Please consider using SQLAlchemy.\n",
      "  customer_df = pd.read_sql_query(customer_query,mydb)\n"
     ]
    },
    {
     "data": {
      "text/html": [
       "<div>\n",
       "<style scoped>\n",
       "    .dataframe tbody tr th:only-of-type {\n",
       "        vertical-align: middle;\n",
       "    }\n",
       "\n",
       "    .dataframe tbody tr th {\n",
       "        vertical-align: top;\n",
       "    }\n",
       "\n",
       "    .dataframe thead th {\n",
       "        text-align: right;\n",
       "    }\n",
       "</style>\n",
       "<table border=\"1\" class=\"dataframe\">\n",
       "  <thead>\n",
       "    <tr style=\"text-align: right;\">\n",
       "      <th></th>\n",
       "      <th>Customer_Type</th>\n",
       "      <th>count</th>\n",
       "    </tr>\n",
       "  </thead>\n",
       "  <tbody>\n",
       "    <tr>\n",
       "      <th>0</th>\n",
       "      <td>Member</td>\n",
       "      <td>501</td>\n",
       "    </tr>\n",
       "    <tr>\n",
       "      <th>1</th>\n",
       "      <td>Normal</td>\n",
       "      <td>499</td>\n",
       "    </tr>\n",
       "  </tbody>\n",
       "</table>\n",
       "</div>"
      ],
      "text/plain": [
       "  Customer_Type  count\n",
       "0        Member    501\n",
       "1        Normal    499"
      ]
     },
     "execution_count": 8,
     "metadata": {},
     "output_type": "execute_result"
    }
   ],
   "source": [
    "customer_query = \"SELECT Customer_Type, COUNT(*) AS count FROM sales GROUP BY Customer_Type ORDER BY count DESC\"\n",
    "customer_df = pd.read_sql_query(customer_query,mydb)\n",
    "customer_df.head()"
   ]
  },
  {
   "attachments": {},
   "cell_type": "markdown",
   "metadata": {},
   "source": [
    "### As a Data Analyst, I want to explore the data to answer the following:\n",
    "* How many sales were made at each locatoin?"
   ]
  },
  {
   "cell_type": "code",
   "execution_count": 9,
   "metadata": {},
   "outputs": [
    {
     "name": "stderr",
     "output_type": "stream",
     "text": [
      "C:\\Users\\jenve\\AppData\\Local\\Temp\\ipykernel_40104\\2697187609.py:2: UserWarning: pandas only supports SQLAlchemy connectable (engine/connection) or database string URI or sqlite3 DBAPI2 connection. Other DBAPI2 objects are not tested. Please consider using SQLAlchemy.\n",
      "  location_df = pd.read_sql_query(city_query,mydb)\n"
     ]
    },
    {
     "data": {
      "text/html": [
       "<div>\n",
       "<style scoped>\n",
       "    .dataframe tbody tr th:only-of-type {\n",
       "        vertical-align: middle;\n",
       "    }\n",
       "\n",
       "    .dataframe tbody tr th {\n",
       "        vertical-align: top;\n",
       "    }\n",
       "\n",
       "    .dataframe thead th {\n",
       "        text-align: right;\n",
       "    }\n",
       "</style>\n",
       "<table border=\"1\" class=\"dataframe\">\n",
       "  <thead>\n",
       "    <tr style=\"text-align: right;\">\n",
       "      <th></th>\n",
       "      <th>City</th>\n",
       "      <th>count</th>\n",
       "    </tr>\n",
       "  </thead>\n",
       "  <tbody>\n",
       "    <tr>\n",
       "      <th>0</th>\n",
       "      <td>Seattle</td>\n",
       "      <td>340</td>\n",
       "    </tr>\n",
       "    <tr>\n",
       "      <th>1</th>\n",
       "      <td>New York City</td>\n",
       "      <td>332</td>\n",
       "    </tr>\n",
       "    <tr>\n",
       "      <th>2</th>\n",
       "      <td>Milwaukee</td>\n",
       "      <td>328</td>\n",
       "    </tr>\n",
       "  </tbody>\n",
       "</table>\n",
       "</div>"
      ],
      "text/plain": [
       "            City  count\n",
       "0        Seattle    340\n",
       "1  New York City    332\n",
       "2      Milwaukee    328"
      ]
     },
     "execution_count": 9,
     "metadata": {},
     "output_type": "execute_result"
    }
   ],
   "source": [
    "city_query = \"SELECT City, COUNT(*) as count from sales JOIN cities ON sales.City_ID = cities.City_ID GROUP BY City ORDER BY count DESC \"\n",
    "location_df = pd.read_sql_query(city_query,mydb)\n",
    "location_df.head()"
   ]
  },
  {
   "attachments": {},
   "cell_type": "markdown",
   "metadata": {},
   "source": [
    "### As a Data Analyst, I want to explore the data to answer the following:\n",
    "* How many sales were made for each product line?"
   ]
  },
  {
   "cell_type": "code",
   "execution_count": 89,
   "metadata": {},
   "outputs": [
    {
     "name": "stderr",
     "output_type": "stream",
     "text": [
      "C:\\Users\\jenve\\AppData\\Local\\Temp\\ipykernel_40104\\518517885.py:2: UserWarning: pandas only supports SQLAlchemy connectable (engine/connection) or database string URI or sqlite3 DBAPI2 connection. Other DBAPI2 objects are not tested. Please consider using SQLAlchemy.\n",
      "  product_sales_df=pd.read_sql_query(productline_query,mydb)\n"
     ]
    },
    {
     "data": {
      "text/html": [
       "<div>\n",
       "<style scoped>\n",
       "    .dataframe tbody tr th:only-of-type {\n",
       "        vertical-align: middle;\n",
       "    }\n",
       "\n",
       "    .dataframe tbody tr th {\n",
       "        vertical-align: top;\n",
       "    }\n",
       "\n",
       "    .dataframe thead th {\n",
       "        text-align: right;\n",
       "    }\n",
       "</style>\n",
       "<table border=\"1\" class=\"dataframe\">\n",
       "  <thead>\n",
       "    <tr style=\"text-align: right;\">\n",
       "      <th></th>\n",
       "      <th>Product_Line</th>\n",
       "      <th>count</th>\n",
       "    </tr>\n",
       "  </thead>\n",
       "  <tbody>\n",
       "    <tr>\n",
       "      <th>0</th>\n",
       "      <td>Fashion accessories</td>\n",
       "      <td>178</td>\n",
       "    </tr>\n",
       "    <tr>\n",
       "      <th>1</th>\n",
       "      <td>Food and beverages</td>\n",
       "      <td>174</td>\n",
       "    </tr>\n",
       "    <tr>\n",
       "      <th>2</th>\n",
       "      <td>Electronic accessories</td>\n",
       "      <td>170</td>\n",
       "    </tr>\n",
       "    <tr>\n",
       "      <th>3</th>\n",
       "      <td>Sports and travel</td>\n",
       "      <td>166</td>\n",
       "    </tr>\n",
       "    <tr>\n",
       "      <th>4</th>\n",
       "      <td>Home and lifestyle</td>\n",
       "      <td>160</td>\n",
       "    </tr>\n",
       "    <tr>\n",
       "      <th>5</th>\n",
       "      <td>Health and beauty</td>\n",
       "      <td>152</td>\n",
       "    </tr>\n",
       "  </tbody>\n",
       "</table>\n",
       "</div>"
      ],
      "text/plain": [
       "             Product_Line  count\n",
       "0     Fashion accessories    178\n",
       "1      Food and beverages    174\n",
       "2  Electronic accessories    170\n",
       "3       Sports and travel    166\n",
       "4      Home and lifestyle    160\n",
       "5       Health and beauty    152"
      ]
     },
     "execution_count": 89,
     "metadata": {},
     "output_type": "execute_result"
    }
   ],
   "source": [
    "productline_query = \"SELECT Product_Line, COUNT(*) as count from sales GROUP BY Product_Line ORDER BY count DESC\"\n",
    "product_sales_df=pd.read_sql_query(productline_query,mydb)\n",
    "product_sales_df"
   ]
  },
  {
   "attachments": {},
   "cell_type": "markdown",
   "metadata": {},
   "source": [
    "### As a Data Analyst, I want to explore the data to answer the following:\n",
    "* What is the overall average rating, based on all sales records?"
   ]
  },
  {
   "cell_type": "code",
   "execution_count": 11,
   "metadata": {},
   "outputs": [
    {
     "name": "stderr",
     "output_type": "stream",
     "text": [
      "C:\\Users\\jenve\\AppData\\Local\\Temp\\ipykernel_40104\\834014289.py:2: UserWarning: pandas only supports SQLAlchemy connectable (engine/connection) or database string URI or sqlite3 DBAPI2 connection. Other DBAPI2 objects are not tested. Please consider using SQLAlchemy.\n",
      "  average_rating_df = pd.read_sql_query(average_query, mydb)\n"
     ]
    },
    {
     "data": {
      "text/html": [
       "<div>\n",
       "<style scoped>\n",
       "    .dataframe tbody tr th:only-of-type {\n",
       "        vertical-align: middle;\n",
       "    }\n",
       "\n",
       "    .dataframe tbody tr th {\n",
       "        vertical-align: top;\n",
       "    }\n",
       "\n",
       "    .dataframe thead th {\n",
       "        text-align: right;\n",
       "    }\n",
       "</style>\n",
       "<table border=\"1\" class=\"dataframe\">\n",
       "  <thead>\n",
       "    <tr style=\"text-align: right;\">\n",
       "      <th></th>\n",
       "      <th>Rating</th>\n",
       "      <th>Average_Rating</th>\n",
       "    </tr>\n",
       "  </thead>\n",
       "  <tbody>\n",
       "    <tr>\n",
       "      <th>0</th>\n",
       "      <td>7.0</td>\n",
       "      <td>6.9727</td>\n",
       "    </tr>\n",
       "  </tbody>\n",
       "</table>\n",
       "</div>"
      ],
      "text/plain": [
       "   Rating  Average_Rating\n",
       "0     7.0          6.9727"
      ]
     },
     "execution_count": 11,
     "metadata": {},
     "output_type": "execute_result"
    }
   ],
   "source": [
    "average_query = \"SELECT Rating, AVG(Rating) as Average_Rating FROM sales\"\n",
    "average_rating_df = pd.read_sql_query(average_query, mydb)\n",
    "average_rating_df"
   ]
  },
  {
   "attachments": {},
   "cell_type": "markdown",
   "metadata": {},
   "source": [
    "### As a Data Analyst, I want to create **three** visualizations of the DataFrame that include a title and axis titles if applicable:\n",
    "1. A gender comparison of the total number of purchases made."
   ]
  },
  {
   "cell_type": "code",
   "execution_count": 37,
   "metadata": {},
   "outputs": [
    {
     "name": "stderr",
     "output_type": "stream",
     "text": [
      "C:\\Users\\jenve\\AppData\\Local\\Temp\\ipykernel_40104\\2128903377.py:2: UserWarning: pandas only supports SQLAlchemy connectable (engine/connection) or database string URI or sqlite3 DBAPI2 connection. Other DBAPI2 objects are not tested. Please consider using SQLAlchemy.\n",
      "  gender_df=pd.read_sql_query(gender_query,mydb)\n"
     ]
    },
    {
     "data": {
      "text/plain": [
       "Text(0.5, 1.0, 'Gender Breakdown')"
      ]
     },
     "execution_count": 37,
     "metadata": {},
     "output_type": "execute_result"
    },
    {
     "data": {
      "image/png": "[encoded data removed]",
      "text/plain": [
       "<Figure size 900x600 with 1 Axes>"
      ]
     },
     "metadata": {},
     "output_type": "display_data"
    }
   ],
   "source": [
    "gender_query = \"SELECT Gender, COUNT(*) AS count FROM sales GROUP BY Gender ORDER BY count\"\n",
    "gender_df=pd.read_sql_query(gender_query,mydb)\n",
    "gender_df.set_index([\"Gender\"], inplace = True)\n",
    "gender_pie_chart = gender_df.plot.pie(y = \"count\", figsize = (9,6))\n",
    "plt.title(\"Gender Breakdown\")\n"
   ]
  },
  {
   "attachments": {},
   "cell_type": "markdown",
   "metadata": {},
   "source": [
    "### As a Data Analyst, I want to create **three** visualizations of the DataFrame that include a title and axis titles if applicable:\n",
    "2. A bar graph of the total number of purchases made in each city"
   ]
  },
  {
   "cell_type": "code",
   "execution_count": 77,
   "metadata": {},
   "outputs": [
    {
     "data": {
      "image/png": "[encoded data removed]",
      "text/plain": [
       "<Figure size 640x480 with 1 Axes>"
      ]
     },
     "metadata": {},
     "output_type": "display_data"
    }
   ],
   "source": [
    "# location_df[\"City\"].value_counts().plot.bar()\n",
    "city_plot = location_df.plot(kind = \"bar\", x = \"City\", y = \"count\", color = [\"blue\", \"green\", \"orange\"], legend =False)\n",
    "city_plot.bar_label(city_plot.containers[0])\n",
    "plt.title(\"Sales per City\", fontsize = 20);\n",
    "plt.xlabel(\"City\", fontsize = 14);\n",
    "plt.ylabel(\"Number of Sales\", fontsize = 14);"
   ]
  },
  {
   "attachments": {},
   "cell_type": "markdown",
   "metadata": {},
   "source": [
    "### As a Data Analyst, I want to create **three** visualizations of the DataFrame that include a title and axis titles if applicable:\n",
    "3. A comparison of the sales by product line"
   ]
  },
  {
   "cell_type": "code",
   "execution_count": 96,
   "metadata": {},
   "outputs": [
    {
     "data": {
      "image/png": "[encoded data removed]",
      "text/plain": [
       "<Figure size 640x480 with 1 Axes>"
      ]
     },
     "metadata": {},
     "output_type": "display_data"
    }
   ],
   "source": [
    "product_bar_chart = product_sales_df.plot.bar(x=\"Product_Line\",y=\"count\", color = [\"orange\",\"green\"])\n",
    "product_bar_chart.bar_label(product_bar_chart.containers[0])\n",
    "plt.title(\"Sales by Product Line\", fontsize = 18);\n",
    "plt.xlabel(\"Product_Line\", fontsize = 14);\n",
    "plt.ylabel(\"Sales\", fontsize = 14);"
   ]
  },
  {
   "attachments": {},
   "cell_type": "markdown",
   "metadata": {},
   "source": [
    "### As a Data Analyst, I want to create **three** visualizations of the DataFrame that include a title and axis titles if applicable:\n",
    "4. A comparison of the payment types used"
   ]
  },
  {
   "cell_type": "code",
   "execution_count": 86,
   "metadata": {},
   "outputs": [
    {
     "name": "stderr",
     "output_type": "stream",
     "text": [
      "C:\\Users\\jenve\\AppData\\Local\\Temp\\ipykernel_40104\\2668173733.py:2: UserWarning: pandas only supports SQLAlchemy connectable (engine/connection) or database string URI or sqlite3 DBAPI2 connection. Other DBAPI2 objects are not tested. Please consider using SQLAlchemy.\n",
      "  payment_type_df=pd.read_sql_query(payment_query,mydb)\n"
     ]
    },
    {
     "data": {
      "image/png": "[encoded data removed]",
      "text/plain": [
       "<Figure size 640x480 with 1 Axes>"
      ]
     },
     "metadata": {},
     "output_type": "display_data"
    }
   ],
   "source": [
    "payment_query=\"SELECT Payment, COUNT(*) AS Count FROM sales GROUP BY Payment ORDER by Count DESC\"\n",
    "payment_type_df=pd.read_sql_query(payment_query,mydb)\n",
    "payment_type_df\n",
    "\n",
    "payment_counts = filtered_df[\"Payment\"].value_counts()\n",
    "payment_plot = payment_counts.plot.bar(color=[\"blue\",\"green\",\"orange\"])\n",
    "payment_plot.bar_label(payment_plot.containers[0])\n",
    "plt.title(\"Payment Type\", size = 20);\n",
    "plt.xlabel(\"Payment Types\", size = 14);\n",
    "plt.ylabel(\"Frequency\", size = 14);"
   ]
  },
  {
   "attachments": {},
   "cell_type": "markdown",
   "metadata": {},
   "source": [
    "### As a Data Analyst, I want to describe the numeric trends in my DataFrame"
   ]
  },
  {
   "cell_type": "code",
   "execution_count": 98,
   "metadata": {},
   "outputs": [
    {
     "data": {
      "text/html": [
       "<div>\n",
       "<style scoped>\n",
       "    .dataframe tbody tr th:only-of-type {\n",
       "        vertical-align: middle;\n",
       "    }\n",
       "\n",
       "    .dataframe tbody tr th {\n",
       "        vertical-align: top;\n",
       "    }\n",
       "\n",
       "    .dataframe thead th {\n",
       "        text-align: right;\n",
       "    }\n",
       "</style>\n",
       "<table border=\"1\" class=\"dataframe\">\n",
       "  <thead>\n",
       "    <tr style=\"text-align: right;\">\n",
       "      <th></th>\n",
       "      <th>Unit_Price</th>\n",
       "      <th>Quantity</th>\n",
       "      <th>Total</th>\n",
       "      <th>Date</th>\n",
       "      <th>COGS</th>\n",
       "      <th>Gross_Income</th>\n",
       "      <th>Rating</th>\n",
       "      <th>City_ID</th>\n",
       "    </tr>\n",
       "  </thead>\n",
       "  <tbody>\n",
       "    <tr>\n",
       "      <th>count</th>\n",
       "      <td>1000.000000</td>\n",
       "      <td>1000.000000</td>\n",
       "      <td>1000.000000</td>\n",
       "      <td>1000</td>\n",
       "      <td>1000.00000</td>\n",
       "      <td>1000.000000</td>\n",
       "      <td>1000.00000</td>\n",
       "      <td>1000.000000</td>\n",
       "    </tr>\n",
       "    <tr>\n",
       "      <th>mean</th>\n",
       "      <td>55.672130</td>\n",
       "      <td>5.510000</td>\n",
       "      <td>322.966749</td>\n",
       "      <td>2019-02-14 00:05:45.600000</td>\n",
       "      <td>307.58738</td>\n",
       "      <td>15.379369</td>\n",
       "      <td>6.97270</td>\n",
       "      <td>1.988000</td>\n",
       "    </tr>\n",
       "    <tr>\n",
       "      <th>min</th>\n",
       "      <td>10.080000</td>\n",
       "      <td>1.000000</td>\n",
       "      <td>10.678500</td>\n",
       "      <td>2019-01-01 00:00:00</td>\n",
       "      <td>10.17000</td>\n",
       "      <td>0.508500</td>\n",
       "      <td>4.00000</td>\n",
       "      <td>1.000000</td>\n",
       "    </tr>\n",
       "    <tr>\n",
       "      <th>25%</th>\n",
       "      <td>32.875000</td>\n",
       "      <td>3.000000</td>\n",
       "      <td>124.422375</td>\n",
       "      <td>2019-01-24 00:00:00</td>\n",
       "      <td>118.49750</td>\n",
       "      <td>5.924875</td>\n",
       "      <td>5.50000</td>\n",
       "      <td>1.000000</td>\n",
       "    </tr>\n",
       "    <tr>\n",
       "      <th>50%</th>\n",
       "      <td>55.230000</td>\n",
       "      <td>5.000000</td>\n",
       "      <td>253.848000</td>\n",
       "      <td>2019-02-13 00:00:00</td>\n",
       "      <td>241.76000</td>\n",
       "      <td>12.088000</td>\n",
       "      <td>7.00000</td>\n",
       "      <td>2.000000</td>\n",
       "    </tr>\n",
       "    <tr>\n",
       "      <th>75%</th>\n",
       "      <td>77.935000</td>\n",
       "      <td>8.000000</td>\n",
       "      <td>471.350250</td>\n",
       "      <td>2019-03-08 00:00:00</td>\n",
       "      <td>448.90500</td>\n",
       "      <td>22.445250</td>\n",
       "      <td>8.50000</td>\n",
       "      <td>3.000000</td>\n",
       "    </tr>\n",
       "    <tr>\n",
       "      <th>max</th>\n",
       "      <td>99.960000</td>\n",
       "      <td>10.000000</td>\n",
       "      <td>1042.650000</td>\n",
       "      <td>2019-03-30 00:00:00</td>\n",
       "      <td>993.00000</td>\n",
       "      <td>49.650000</td>\n",
       "      <td>10.00000</td>\n",
       "      <td>3.000000</td>\n",
       "    </tr>\n",
       "    <tr>\n",
       "      <th>std</th>\n",
       "      <td>26.494628</td>\n",
       "      <td>2.923431</td>\n",
       "      <td>245.885335</td>\n",
       "      <td>NaN</td>\n",
       "      <td>234.17651</td>\n",
       "      <td>11.708825</td>\n",
       "      <td>1.71858</td>\n",
       "      <td>0.817633</td>\n",
       "    </tr>\n",
       "  </tbody>\n",
       "</table>\n",
       "</div>"
      ],
      "text/plain": [
       "        Unit_Price     Quantity        Total                        Date   \n",
       "count  1000.000000  1000.000000  1000.000000                        1000  \\\n",
       "mean     55.672130     5.510000   322.966749  2019-02-14 00:05:45.600000   \n",
       "min      10.080000     1.000000    10.678500         2019-01-01 00:00:00   \n",
       "25%      32.875000     3.000000   124.422375         2019-01-24 00:00:00   \n",
       "50%      55.230000     5.000000   253.848000         2019-02-13 00:00:00   \n",
       "75%      77.935000     8.000000   471.350250         2019-03-08 00:00:00   \n",
       "max      99.960000    10.000000  1042.650000         2019-03-30 00:00:00   \n",
       "std      26.494628     2.923431   245.885335                         NaN   \n",
       "\n",
       "             COGS  Gross_Income      Rating      City_ID  \n",
       "count  1000.00000   1000.000000  1000.00000  1000.000000  \n",
       "mean    307.58738     15.379369     6.97270     1.988000  \n",
       "min      10.17000      0.508500     4.00000     1.000000  \n",
       "25%     118.49750      5.924875     5.50000     1.000000  \n",
       "50%     241.76000     12.088000     7.00000     2.000000  \n",
       "75%     448.90500     22.445250     8.50000     3.000000  \n",
       "max     993.00000     49.650000    10.00000     3.000000  \n",
       "std     234.17651     11.708825     1.71858     0.817633  "
      ]
     },
     "execution_count": 98,
     "metadata": {},
     "output_type": "execute_result"
    }
   ],
   "source": [
    "filtered_df.describe()"
   ]
  },
  {
   "attachments": {},
   "cell_type": "markdown",
   "metadata": {},
   "source": [
    "### As a Data Analyst, I want to explore the correlation between columns of data"
   ]
  },
  {
   "cell_type": "code",
   "execution_count": 122,
   "metadata": {},
   "outputs": [
    {
     "data": {
      "text/html": [
       "<div>\n",
       "<style scoped>\n",
       "    .dataframe tbody tr th:only-of-type {\n",
       "        vertical-align: middle;\n",
       "    }\n",
       "\n",
       "    .dataframe tbody tr th {\n",
       "        vertical-align: top;\n",
       "    }\n",
       "\n",
       "    .dataframe thead th {\n",
       "        text-align: right;\n",
       "    }\n",
       "</style>\n",
       "<table border=\"1\" class=\"dataframe\">\n",
       "  <thead>\n",
       "    <tr style=\"text-align: right;\">\n",
       "      <th></th>\n",
       "      <th>Invoice_ID</th>\n",
       "      <th>Customer_Type</th>\n",
       "      <th>Gender</th>\n",
       "      <th>Product_Line</th>\n",
       "      <th>Unit_Price</th>\n",
       "      <th>Quantity</th>\n",
       "      <th>Total</th>\n",
       "      <th>Date</th>\n",
       "      <th>Payment</th>\n",
       "      <th>COGS</th>\n",
       "      <th>Gross_Income</th>\n",
       "      <th>Rating</th>\n",
       "      <th>City_ID</th>\n",
       "      <th>City</th>\n",
       "    </tr>\n",
       "  </thead>\n",
       "  <tbody>\n",
       "    <tr>\n",
       "      <th>0</th>\n",
       "      <td>101-17-6199</td>\n",
       "      <td>Normal</td>\n",
       "      <td>Male</td>\n",
       "      <td>Food and beverages</td>\n",
       "      <td>45.79</td>\n",
       "      <td>7</td>\n",
       "      <td>336.5565</td>\n",
       "      <td>2019-03-13</td>\n",
       "      <td>Credit card</td>\n",
       "      <td>320.53</td>\n",
       "      <td>16.0265</td>\n",
       "      <td>7.0</td>\n",
       "      <td>1</td>\n",
       "      <td>Seattle</td>\n",
       "    </tr>\n",
       "    <tr>\n",
       "      <th>1</th>\n",
       "      <td>101-81-4070</td>\n",
       "      <td>Member</td>\n",
       "      <td>Female</td>\n",
       "      <td>Health and beauty</td>\n",
       "      <td>62.82</td>\n",
       "      <td>2</td>\n",
       "      <td>131.9220</td>\n",
       "      <td>2019-01-17</td>\n",
       "      <td>Ewallet</td>\n",
       "      <td>125.64</td>\n",
       "      <td>6.2820</td>\n",
       "      <td>4.9</td>\n",
       "      <td>3</td>\n",
       "      <td>Milwaukee</td>\n",
       "    </tr>\n",
       "    <tr>\n",
       "      <th>2</th>\n",
       "      <td>102-06-2002</td>\n",
       "      <td>Member</td>\n",
       "      <td>Male</td>\n",
       "      <td>Sports and travel</td>\n",
       "      <td>25.25</td>\n",
       "      <td>5</td>\n",
       "      <td>132.5625</td>\n",
       "      <td>2019-03-20</td>\n",
       "      <td>Cash</td>\n",
       "      <td>126.25</td>\n",
       "      <td>6.3125</td>\n",
       "      <td>6.1</td>\n",
       "      <td>3</td>\n",
       "      <td>Milwaukee</td>\n",
       "    </tr>\n",
       "    <tr>\n",
       "      <th>3</th>\n",
       "      <td>102-77-2261</td>\n",
       "      <td>Member</td>\n",
       "      <td>Male</td>\n",
       "      <td>Health and beauty</td>\n",
       "      <td>65.31</td>\n",
       "      <td>7</td>\n",
       "      <td>480.0285</td>\n",
       "      <td>2019-03-05</td>\n",
       "      <td>Credit card</td>\n",
       "      <td>457.17</td>\n",
       "      <td>22.8585</td>\n",
       "      <td>4.2</td>\n",
       "      <td>3</td>\n",
       "      <td>Milwaukee</td>\n",
       "    </tr>\n",
       "    <tr>\n",
       "      <th>4</th>\n",
       "      <td>105-10-6182</td>\n",
       "      <td>Member</td>\n",
       "      <td>Male</td>\n",
       "      <td>Fashion accessories</td>\n",
       "      <td>21.48</td>\n",
       "      <td>2</td>\n",
       "      <td>45.1080</td>\n",
       "      <td>2019-02-27</td>\n",
       "      <td>Ewallet</td>\n",
       "      <td>42.96</td>\n",
       "      <td>2.1480</td>\n",
       "      <td>6.6</td>\n",
       "      <td>1</td>\n",
       "      <td>Seattle</td>\n",
       "    </tr>\n",
       "  </tbody>\n",
       "</table>\n",
       "</div>"
      ],
      "text/plain": [
       "    Invoice_ID Customer_Type  Gender         Product_Line  Unit_Price   \n",
       "0  101-17-6199        Normal    Male   Food and beverages       45.79  \\\n",
       "1  101-81-4070        Member  Female    Health and beauty       62.82   \n",
       "2  102-06-2002        Member    Male    Sports and travel       25.25   \n",
       "3  102-77-2261        Member    Male    Health and beauty       65.31   \n",
       "4  105-10-6182        Member    Male  Fashion accessories       21.48   \n",
       "\n",
       "   Quantity     Total       Date      Payment    COGS  Gross_Income  Rating   \n",
       "0         7  336.5565 2019-03-13  Credit card  320.53       16.0265     7.0  \\\n",
       "1         2  131.9220 2019-01-17      Ewallet  125.64        6.2820     4.9   \n",
       "2         5  132.5625 2019-03-20         Cash  126.25        6.3125     6.1   \n",
       "3         7  480.0285 2019-03-05  Credit card  457.17       22.8585     4.2   \n",
       "4         2   45.1080 2019-02-27      Ewallet   42.96        2.1480     6.6   \n",
       "\n",
       "   City_ID       City  \n",
       "0        1    Seattle  \n",
       "1        3  Milwaukee  \n",
       "2        3  Milwaukee  \n",
       "3        3  Milwaukee  \n",
       "4        1    Seattle  "
      ]
     },
     "execution_count": 122,
     "metadata": {},
     "output_type": "execute_result"
    }
   ],
   "source": [
    "filtered_df.corr(numeric_only = True)\n",
    "filtered_df.head()\n"
   ]
  },
  {
   "attachments": {},
   "cell_type": "markdown",
   "metadata": {},
   "source": [
    "### As a Data Analyst, I want to create a Linear Regression and model the line of best fit between the data that is most correlated with one another"
   ]
  },
  {
   "cell_type": "code",
   "execution_count": 123,
   "metadata": {},
   "outputs": [
    {
     "data": {
      "text/plain": [
       "[<matplotlib.lines.Line2D at 0x1da993bd990>]"
      ]
     },
     "execution_count": 123,
     "metadata": {},
     "output_type": "execute_result"
    },
    {
     "data": {
      "image/png": "[encoded data removed]",
      "text/plain": [
       "<Figure size 900x600 with 1 Axes>"
      ]
     },
     "metadata": {},
     "output_type": "display_data"
    }
   ],
   "source": [
    "filtered_df.plot.scatter(x = \"Total\", y = \"COGS\", figsize = (9,6))\n",
    "reshaped_x = filtered_df[[\"Total\"]]\n",
    "reshaped_y = filtered_df[\"COGS\"]\n",
    "model = LinearRegression()\n",
    "model.fit(reshaped_x,reshaped_y)\n",
    "model.predict(reshaped_x)\n",
    "predicted_gross_income = model.predict(reshaped_x)\n",
    "plt.plot(reshaped_x,predicted_gross_income, color = \"green\")"
   ]
  }
 ],
 "metadata": {
  "kernelspec": {
   "display_name": "Python 3",
   "language": "python",
   "name": "python3"
  },
  "language_info": {
   "codemirror_mode": {
    "name": "ipython",
    "version": 3
   },
   "file_extension": ".py",
   "mimetype": "text/x-python",
   "name": "python",
   "nbconvert_exporter": "python",
   "pygments_lexer": "ipython3",
   "version": "3.11.2"
  },
  "orig_nbformat": 4
 },
 "nbformat": 4,
 "nbformat_minor": 2
}
